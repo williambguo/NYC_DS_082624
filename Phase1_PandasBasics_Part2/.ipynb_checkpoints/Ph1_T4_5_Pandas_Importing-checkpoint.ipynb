{
 "cells": [
  {
   "cell_type": "markdown",
   "id": "b1b58d2e",
   "metadata": {
    "cell_style": "center",
    "slideshow": {
     "slide_type": "slide"
    }
   },
   "source": [
    "<div style=\"color:white;\n",
    "           display:fill;\n",
    "           border-radius:5px;\n",
    "           background-color:#5642C5;\n",
    "           font-size:200%;\n",
    "           font-family:Arial;letter-spacing:0.5px\">\n",
    "\n",
    "<p width = 20%, style=\"padding: 10px;\n",
    "              color:white;\">\n",
    "Pandas: Importing Data\n",
    "              \n",
    "</p>\n",
    "</div>\n",
    "\n",
    "Data Science Cohort Live NYC Nov 2023\n",
    "<p>Phase 1</p>\n",
    "<br>\n",
    "<br>\n",
    "\n",
    "<div align = \"right\">\n",
    "<img src=\"Images/flatiron-school-logo.png\" align = \"right\" width=\"200\"/>\n",
    "</div>\n",
    "    \n",
    "   "
   ]
  },
  {
   "cell_type": "markdown",
   "id": "4ffd05ba",
   "metadata": {
    "slideshow": {
     "slide_type": "slide"
    }
   },
   "source": [
    "Pandas can import/export data from/to a variety of file formats and sources:\n",
    "    \n",
    "- import data from CSV, JSON, Excel  spreadsheet  \n",
    "- Use pandas to export a DataFrame to a file\n"
   ]
  },
  {
   "cell_type": "code",
   "execution_count": null,
   "id": "79f6ac56",
   "metadata": {
    "slideshow": {
     "slide_type": "slide"
    }
   },
   "outputs": [],
   "source": [
    "# import our libraries\n",
    "import numpy as np\n",
    "import pandas as pd"
   ]
  },
  {
   "cell_type": "markdown",
   "id": "e6447f4c",
   "metadata": {
    "slideshow": {
     "slide_type": "slide"
    }
   },
   "source": [
    "Pandas functions for importing files into (or creating) DataFrames:\n",
    "* `pd.read_csv()`\n",
    "* `pd.read_excel()`\n",
    "* `pd.read_json()`\n",
    "* `pd.DataFrame.from_dict()`\n",
    "\n",
    "CSV import:\n",
    "- Example: data on patient's blood pressure:\n",
    "`'bp.txt'`, stored in the `Data` folder."
   ]
  },
  {
   "cell_type": "code",
   "execution_count": null,
   "id": "2f32b5b3",
   "metadata": {
    "slideshow": {
     "slide_type": "slide"
    }
   },
   "outputs": [],
   "source": [
    "# Import 'bp.txt' file. Tab separated entries.\n",
    "df = pd.read_csv('Data/bp.txt', delimiter='\\t')\n",
    "# if delimiter is not specified assumes ',' delimiter"
   ]
  },
  {
   "cell_type": "code",
   "execution_count": null,
   "id": "62d4a0c7",
   "metadata": {
    "slideshow": {
     "slide_type": "subslide"
    }
   },
   "outputs": [],
   "source": [
    "# Look at the first 3 rows\n",
    "df.head(3)"
   ]
  },
  {
   "cell_type": "code",
   "execution_count": null,
   "id": "d5ea8ccc",
   "metadata": {
    "slideshow": {
     "slide_type": "subslide"
    }
   },
   "outputs": [],
   "source": [
    "# Look at the last 4 rows\n",
    "df.tail(4)"
   ]
  },
  {
   "cell_type": "markdown",
   "id": "54870294",
   "metadata": {
    "slideshow": {
     "slide_type": "slide"
    }
   },
   "source": [
    "\n",
    "#### Skipping and Limiting Rows\n",
    "\n",
    "- Skipping rows: ignore metadata stored at the top of a file. Optional parameter `skiprows`. \n",
    "- Limit number of rows loaded: `nrows` parameter.\n",
    "\n",
    "Let's look at another dataset:"
   ]
  },
  {
   "cell_type": "code",
   "execution_count": null,
   "id": "0e003eff",
   "metadata": {
    "slideshow": {
     "slide_type": "subslide"
    }
   },
   "outputs": [],
   "source": [
    "# Import the first 100 rows of 'ACS_16_5YR_B24011_with_ann.csv' file\n",
    "df = pd.read_csv('Data/ACS_16_5YR_B24011_with_ann.csv', nrows=100)\n",
    "\n",
    "# Look at the first five rows\n",
    "df.head()"
   ]
  },
  {
   "cell_type": "markdown",
   "id": "b6d41c13",
   "metadata": {
    "slideshow": {
     "slide_type": "slide"
    }
   },
   "source": [
    "#### Notice the first row is descriptions of the variables\n",
    "\n",
    "Could just drop the first row:"
   ]
  },
  {
   "cell_type": "code",
   "execution_count": null,
   "id": "63ead770",
   "metadata": {
    "slideshow": {
     "slide_type": "subslide"
    }
   },
   "outputs": [],
   "source": [
    "# Delete the first row\n",
    "df = df.drop(0)\n",
    "df.head(2)"
   ]
  },
  {
   "cell_type": "markdown",
   "id": "8c4bc992",
   "metadata": {
    "slideshow": {
     "slide_type": "slide"
    }
   },
   "source": [
    "Or if we knew from the start, we could use the skiprows argument:"
   ]
  },
  {
   "cell_type": "code",
   "execution_count": null,
   "id": "7402fca7",
   "metadata": {
    "slideshow": {
     "slide_type": "subslide"
    }
   },
   "outputs": [],
   "source": [
    "# Import the first 100 rows of 'ACS_16_5YR_B24011_with_ann.csv' file while skipping the first row\n",
    "df = pd.read_csv('Data/ACS_16_5YR_B24011_with_ann.csv', skiprows= [1], nrows=100)\n",
    "df.head()"
   ]
  },
  {
   "cell_type": "markdown",
   "id": "1cef6023",
   "metadata": {
    "slideshow": {
     "slide_type": "slide"
    }
   },
   "source": [
    "#### Header\n",
    "\n",
    "Related to `skiprows` is the `header` parameter:\n",
    "- header = the row where column names are and starts importing data from that point.\n",
    "- Set data description row as our header for fun."
   ]
  },
  {
   "cell_type": "code",
   "execution_count": null,
   "id": "ba33e679",
   "metadata": {
    "slideshow": {
     "slide_type": "subslide"
    }
   },
   "outputs": [],
   "source": [
    "# Look at the error output once you run this cell. What type of error is it?\n",
    "df = pd.read_csv('Data/ACS_16_5YR_B24011_with_ann.csv', header=1)\n",
    "df.head()"
   ]
  },
  {
   "cell_type": "markdown",
   "id": "9c54f97f",
   "metadata": {
    "slideshow": {
     "slide_type": "slide"
    }
   },
   "source": [
    "## Encoding\n",
    "\n",
    "Encoding errors:\n",
    "- Strings within the file are formatted according to encoding scheme. \n",
    "- Most common encoding: `utf-8` (default)\n",
    "- Second most common: `latin-1`\n"
   ]
  },
  {
   "cell_type": "code",
   "execution_count": null,
   "id": "d301698b",
   "metadata": {
    "slideshow": {
     "slide_type": "subslide"
    }
   },
   "outputs": [],
   "source": [
    "# Import the 'ACS_16_5YR_B24011_with_ann.csv' file using a proper encoding\n",
    "df = pd.read_csv('Data/ACS_16_5YR_B24011_with_ann.csv', header=1, encoding='latin-1')\n",
    "df.head()"
   ]
  },
  {
   "cell_type": "markdown",
   "id": "e2bd620a",
   "metadata": {
    "slideshow": {
     "slide_type": "slide"
    }
   },
   "source": [
    "#### Selecting Specific Columns  \n",
    "\n",
    "You can also select specific columns if you only want to load specific features."
   ]
  },
  {
   "cell_type": "code",
   "execution_count": null,
   "id": "ee0cf5c2",
   "metadata": {
    "slideshow": {
     "slide_type": "fragment"
    }
   },
   "outputs": [],
   "source": [
    "# Import the file with specific columns\n",
    "df = pd.read_csv('Data/ACS_16_5YR_B24011_with_ann.csv', \n",
    "                 usecols=[0, 1, 2, 5, 6], skiprows = [1], encoding='latin-1')\n",
    "df.head(2)"
   ]
  },
  {
   "cell_type": "markdown",
   "id": "5e003cb2",
   "metadata": {
    "slideshow": {
     "slide_type": "subslide"
    }
   },
   "source": [
    "**or**"
   ]
  },
  {
   "cell_type": "code",
   "execution_count": null,
   "id": "3eba99be",
   "metadata": {
    "slideshow": {
     "slide_type": "fragment"
    }
   },
   "outputs": [],
   "source": [
    "# Import the file with specific columns\n",
    "df = pd.read_csv('Data/ACS_16_5YR_B24011_with_ann.csv', skiprows = [1], usecols=['GEO.id', 'GEO.id2', 'HD01_VD02', 'HD02_VD02'], encoding='latin-1')\n",
    "df.head(2)"
   ]
  },
  {
   "cell_type": "markdown",
   "id": "100a932f",
   "metadata": {
    "collapsed": true,
    "slideshow": {
     "slide_type": "slide"
    }
   },
   "source": [
    "#### Importing Excel files\n",
    "Pretty similar to csv importing.\n",
    "\n",
    "Load in an excel file containing some Yelp reviews."
   ]
  },
  {
   "cell_type": "code",
   "execution_count": null,
   "id": "d29d5e64",
   "metadata": {
    "slideshow": {
     "slide_type": "subslide"
    }
   },
   "outputs": [],
   "source": [
    "# Import an Excel file\n",
    "df1 = pd.read_excel('Data/Yelp_Selected_Businesses.xlsx', header=2)\n",
    "df1.head()"
   ]
  },
  {
   "cell_type": "markdown",
   "id": "9a725e93",
   "metadata": {
    "slideshow": {
     "slide_type": "slide"
    }
   },
   "source": [
    "But wait a minute...Excel file often has multiple sheets:\n",
    "\n",
    "- By default, Excel imports first sheet.\n",
    "- Excel file may contain multiple sheets.\n",
    "\n",
    "If we know which sheet we want to import by sheet number:"
   ]
  },
  {
   "cell_type": "code",
   "execution_count": null,
   "id": "75bfa229",
   "metadata": {
    "slideshow": {
     "slide_type": "subslide"
    }
   },
   "outputs": [],
   "source": [
    "# Import a specific sheet of an Excel file\n",
    "df2 = pd.read_excel('Data/Yelp_Selected_Businesses.xlsx', sheet_name=2, header=2)\n",
    "df2.head()"
   ]
  },
  {
   "cell_type": "markdown",
   "id": "035a4a29",
   "metadata": {
    "slideshow": {
     "slide_type": "subslide"
    }
   },
   "source": [
    "Or by sheet name:"
   ]
  },
  {
   "cell_type": "code",
   "execution_count": null,
   "id": "c005bf76",
   "metadata": {
    "slideshow": {
     "slide_type": "subslide"
    }
   },
   "outputs": [],
   "source": [
    "# Import a specific sheet of an Excel file\n",
    "df = pd.read_excel('Data/Yelp_Selected_Businesses.xlsx', sheet_name='Biz_id_RESDU', header=2)\n",
    "df.head()"
   ]
  },
  {
   "cell_type": "markdown",
   "id": "342536a2",
   "metadata": {
    "slideshow": {
     "slide_type": "slide"
    }
   },
   "source": [
    "#### Loading a Full Workbook and Previewing Sheet Names\n",
    "Load entire excel workbook (which is a collection of spreadsheets) with the `pd.ExcelFile()` function."
   ]
  },
  {
   "cell_type": "code",
   "execution_count": null,
   "id": "9ef843a5",
   "metadata": {
    "slideshow": {
     "slide_type": "fragment"
    }
   },
   "outputs": [],
   "source": [
    "# Import the names of Excel sheets in a workbook\n",
    "workbook = pd.ExcelFile('Data/Yelp_Selected_Businesses.xlsx')\n",
    "workbook.sheet_names "
   ]
  },
  {
   "cell_type": "code",
   "execution_count": null,
   "id": "b47f3301",
   "metadata": {
    "slideshow": {
     "slide_type": "subslide"
    }
   },
   "outputs": [],
   "source": [
    "# Import a specific sheet\n",
    "df = workbook.parse(sheet_name=1, header=2)\n",
    "df.head()"
   ]
  },
  {
   "cell_type": "code",
   "execution_count": null,
   "id": "316d4a99",
   "metadata": {
    "slideshow": {
     "slide_type": "subslide"
    }
   },
   "outputs": [],
   "source": [
    "df = workbook.parse(sheet_name='Biz_id_ujHia', header=2)\n",
    "df.head()"
   ]
  },
  {
   "cell_type": "markdown",
   "id": "1c498d66",
   "metadata": {
    "slideshow": {
     "slide_type": "slide"
    }
   },
   "source": [
    "#### Saving Data\n",
    "Once we have data loaded that we may want to export back out, we use the **`.to_csv()`** or **`.to_excel()`** methods of any DataFrame object."
   ]
  },
  {
   "cell_type": "code",
   "execution_count": null,
   "id": "28d7f38a",
   "metadata": {
    "slideshow": {
     "slide_type": "-"
    }
   },
   "outputs": [],
   "source": [
    "# Write data to a CSV file \n",
    "# Notice how we have to pass index=False if we do not want it included in our output\n",
    "df.to_csv('NewSavedView.csv', index=False) "
   ]
  },
  {
   "cell_type": "code",
   "execution_count": null,
   "id": "88271436",
   "metadata": {
    "slideshow": {
     "slide_type": "-"
    }
   },
   "outputs": [],
   "source": [
    "# Write data to an Excel file \n",
    "df.to_excel('NewSavedView.xlsx')"
   ]
  },
  {
   "cell_type": "markdown",
   "id": "f7ef6f79",
   "metadata": {
    "collapsed": true,
    "slideshow": {
     "slide_type": "slide"
    }
   },
   "source": [
    "#### Summary\n",
    "\n",
    "Importing other file formats (JSONs, etc) into DataFrames are pretty similar. See pandas documentation for the rest."
   ]
  }
 ],
 "metadata": {
  "celltoolbar": "Slideshow",
  "kernelspec": {
   "display_name": "Python 3 (ipykernel)",
   "language": "python",
   "name": "python3"
  },
  "language_info": {
   "codemirror_mode": {
    "name": "ipython",
    "version": 3
   },
   "file_extension": ".py",
   "mimetype": "text/x-python",
   "name": "python",
   "nbconvert_exporter": "python",
   "pygments_lexer": "ipython3",
   "version": "3.9.7"
  }
 },
 "nbformat": 4,
 "nbformat_minor": 5
}
