{
 "cells": [
  {
   "cell_type": "markdown",
   "id": "e2e7800a",
   "metadata": {
    "cell_style": "center",
    "slideshow": {
     "slide_type": "slide"
    }
   },
   "source": [
    "<div style=\"color:white;\n",
    "           display:fill;\n",
    "           border-radius:5px;\n",
    "           background-color:#5642C5;\n",
    "           font-size:200%;\n",
    "           font-family:Arial;letter-spacing:0.5px\">\n",
    "\n",
    "<p width = 20%, style=\"padding: 10px;\n",
    "              color:white;\">\n",
    "Base Python: Data Structures\n",
    "              \n",
    "</p>\n",
    "</div>\n",
    "\n",
    "Data Science Cohort Live NYC Aug 2024\n",
    "<p>Phase 1</p>\n",
    "<br>\n",
    "<br>\n",
    "\n",
    "<div align = \"right\">\n",
    "<img src=\"Images/flatiron-school-logo.png\" align = \"right\" width=\"200\"/>\n",
    "</div>\n",
    "    \n",
    "    "
   ]
  },
  {
   "cell_type": "markdown",
   "id": "7f49335b",
   "metadata": {
    "cell_style": "split",
    "slideshow": {
     "slide_type": "slide"
    }
   },
   "source": [
    "As we pull in data from various sources:\n",
    "\n",
    "- Need to represent them in Python"
   ]
  },
  {
   "cell_type": "markdown",
   "id": "d9ef4060",
   "metadata": {
    "cell_style": "split",
    "slideshow": {
     "slide_type": "fragment"
    }
   },
   "source": [
    "Have choice of:\n",
    " - lists/tuples\n",
    " - dicts\n",
    " - combination of the above.\n"
   ]
  },
  {
   "cell_type": "markdown",
   "id": "6685000e",
   "metadata": {
    "slideshow": {
     "slide_type": "slide"
    }
   },
   "source": [
    "#### List representation of data for a sequence:"
   ]
  },
  {
   "cell_type": "code",
   "execution_count": 6,
   "id": "558264f9",
   "metadata": {},
   "outputs": [],
   "source": [
    "a_tuple = (3, 8, 2, 5, 4, 2)\n",
    "a_list = [3, 8, 2, 5, 4, 2]\n"
   ]
  },
  {
   "cell_type": "markdown",
   "id": "87a58f3d",
   "metadata": {
    "slideshow": {
     "slide_type": "fragment"
    }
   },
   "source": [
    "**Question**: List vs. tuple difference?"
   ]
  },
  {
   "cell_type": "markdown",
   "id": "af0aae85",
   "metadata": {
    "cell_style": "split",
    "slideshow": {
     "slide_type": "slide"
    }
   },
   "source": [
    "#### List/tuple representation of data:\n",
    "- List of (x,y) pairs. Or list of lists.\n",
    "- This, or simple generalizations this, are very common.\n",
    "- See this when reading text files / csvs."
   ]
  },
  {
   "cell_type": "code",
   "execution_count": 7,
   "id": "16c3e5cf",
   "metadata": {
    "cell_style": "split"
   },
   "outputs": [],
   "source": [
    "xy_list_of_tuples = [(3, 18), (4, 32), \n",
    "                     (5, 50), (6, 72), (7, 128)]"
   ]
  },
  {
   "cell_type": "markdown",
   "id": "6f0d46a2",
   "metadata": {
    "cell_style": "split",
    "slideshow": {
     "slide_type": "fragment"
    }
   },
   "source": [
    "#### Transforming list/tuple representation of data:\n",
    "Nested list of x values and y values."
   ]
  },
  {
   "cell_type": "code",
   "execution_count": 8,
   "id": "2ecc19b4",
   "metadata": {
    "cell_style": "split",
    "slideshow": {
     "slide_type": "fragment"
    }
   },
   "outputs": [],
   "source": [
    "xy_list_reformed = [[3,4,5,6,7],\n",
    "                    [18,32,50,72,128]]"
   ]
  },
  {
   "cell_type": "markdown",
   "id": "bf996997",
   "metadata": {
    "slideshow": {
     "slide_type": "slide"
    }
   },
   "source": [
    "**Question**: Can anyone help me transform the nested list to a list of xy tuple pairs? I'm at a loss..."
   ]
  },
  {
   "cell_type": "code",
   "execution_count": 9,
   "id": "7a9ab96f",
   "metadata": {
    "slideshow": {
     "slide_type": "fragment"
    }
   },
   "outputs": [
    {
     "name": "stdout",
     "output_type": "stream",
     "text": [
      "[[3, 4, 5, 6, 7], [18, 32, 50, 72, 128]]\n",
      "[(3, 18), (4, 32), (5, 50), (6, 72), (7, 128)]\n"
     ]
    }
   ],
   "source": [
    "print(xy_list_reformed)\n",
    "print(xy_list_of_tuples)"
   ]
  },
  {
   "cell_type": "code",
   "execution_count": 35,
   "id": "ce6ed1f9",
   "metadata": {
    "slideshow": {
     "slide_type": "-"
    }
   },
   "outputs": [
    {
     "data": {
      "text/plain": [
       "[(3, 18), (4, 32), (5, 50), (6, 72), (7, 128)]"
      ]
     },
     "execution_count": 35,
     "metadata": {},
     "output_type": "execute_result"
    }
   ],
   "source": [
    "# help your clueless instructor out\n",
    "myList = []\n",
    "for i in range(len(xy_list_reformed[0])):\n",
    "    myList.append( (xy_list_reformed[0][i],xy_list_reformed[1][i]) )\n",
    "\n",
    "myList"
   ]
  },
  {
   "cell_type": "code",
   "execution_count": 38,
   "id": "51044255",
   "metadata": {
    "slideshow": {
     "slide_type": "-"
    }
   },
   "outputs": [
    {
     "data": {
      "text/plain": [
       "[(3, 18), (4, 32), (5, 50), (6, 72), (7, 128)]"
      ]
     },
     "execution_count": 38,
     "metadata": {},
     "output_type": "execute_result"
    }
   ],
   "source": [
    "list(zip(*xy_list_reformed ))"
   ]
  },
  {
   "cell_type": "markdown",
   "id": "2e6ee1ce",
   "metadata": {
    "slideshow": {
     "slide_type": "slide"
    }
   },
   "source": [
    "**Question**: Can anyone help me transform the list of xy tuple pairs to a nested list of tuples? I'm at a loss..."
   ]
  },
  {
   "cell_type": "code",
   "execution_count": 11,
   "id": "2700ed56",
   "metadata": {
    "slideshow": {
     "slide_type": "fragment"
    }
   },
   "outputs": [
    {
     "data": {
      "text/plain": [
       "[(3, 18), (4, 32), (5, 50), (6, 72), (7, 128)]"
      ]
     },
     "execution_count": 11,
     "metadata": {},
     "output_type": "execute_result"
    }
   ],
   "source": [
    "xy_list_of_tuples\n",
    "# [(2,4,5,6,7), (18,32,50,72,128)]"
   ]
  },
  {
   "cell_type": "code",
   "execution_count": 39,
   "id": "d294b0e0",
   "metadata": {},
   "outputs": [
    {
     "data": {
      "text/plain": [
       "[(3, 4, 5, 6, 7), (18, 32, 50, 72, 128)]"
      ]
     },
     "execution_count": 39,
     "metadata": {},
     "output_type": "execute_result"
    }
   ],
   "source": [
    "# Someone come up and flex those muscles for me\n",
    "list(zip(*xy_list_of_tuples))\n"
   ]
  },
  {
   "cell_type": "markdown",
   "id": "b1e2bad8",
   "metadata": {
    "slideshow": {
     "slide_type": "slide"
    }
   },
   "source": [
    "Maybe we have  column names associated with x and y.\n",
    "- Column names are first tuple/list in nested list."
   ]
  },
  {
   "cell_type": "code",
   "execution_count": 13,
   "id": "63479434",
   "metadata": {
    "slideshow": {
     "slide_type": "fragment"
    }
   },
   "outputs": [],
   "source": [
    "namedxy_list_of_tuples = [('x', 'y'), (3, 18), (4, 32), (5, 50), (6, 72), (8, 128)]"
   ]
  },
  {
   "cell_type": "markdown",
   "id": "9b28d70a",
   "metadata": {
    "slideshow": {
     "slide_type": "fragment"
    }
   },
   "source": [
    "There are alternate ways to represent this data."
   ]
  },
  {
   "cell_type": "markdown",
   "id": "77c6458c",
   "metadata": {
    "slideshow": {
     "slide_type": "slide"
    }
   },
   "source": [
    "#### List of dictionaries representation of data:"
   ]
  },
  {
   "cell_type": "code",
   "execution_count": 14,
   "id": "c3d51f54",
   "metadata": {},
   "outputs": [],
   "source": [
    "xy_dict_list = [ {'x': 3, 'y': 18}, {'x': 4, 'y': 32}, {'x': 5, 'y': 50}, {'x': 6, 'y': 72}, {'x': 8, 'y': 128} ]"
   ]
  },
  {
   "cell_type": "code",
   "execution_count": 15,
   "id": "37d96994",
   "metadata": {},
   "outputs": [
    {
     "data": {
      "text/plain": [
       "18"
      ]
     },
     "execution_count": 15,
     "metadata": {},
     "output_type": "execute_result"
    }
   ],
   "source": [
    "xy_dict_list[0]['y']"
   ]
  },
  {
   "cell_type": "code",
   "execution_count": 40,
   "id": "3abc33a8",
   "metadata": {
    "slideshow": {
     "slide_type": "fragment"
    }
   },
   "outputs": [
    {
     "data": {
      "text/plain": [
       "50"
      ]
     },
     "execution_count": 40,
     "metadata": {},
     "output_type": "execute_result"
    }
   ],
   "source": [
    "# Get me the y-value of the third entry\n",
    "xy_dict_list[2]['y']"
   ]
  },
  {
   "cell_type": "code",
   "execution_count": 50,
   "id": "6d8df727",
   "metadata": {
    "slideshow": {
     "slide_type": "fragment"
    }
   },
   "outputs": [
    {
     "data": {
      "text/plain": [
       "[5, 50]"
      ]
     },
     "execution_count": 50,
     "metadata": {},
     "output_type": "execute_result"
    }
   ],
   "source": [
    "# get me the key value pairs of the third entry as a list of tuples\n",
    "list(xy_dict_list[2].values())"
   ]
  },
  {
   "cell_type": "code",
   "execution_count": 52,
   "id": "f0f00635",
   "metadata": {
    "slideshow": {
     "slide_type": "subslide"
    }
   },
   "outputs": [
    {
     "data": {
      "text/plain": [
       "[{'x': 3, 'y': 18},\n",
       " {'x': 4, 'y': 32},\n",
       " {'x': 5, 'y': 50},\n",
       " {'x': 6, 'y': 72},\n",
       " {'x': 8, 'y': 128}]"
      ]
     },
     "execution_count": 52,
     "metadata": {},
     "output_type": "execute_result"
    }
   ],
   "source": [
    "xy_dict_list"
   ]
  },
  {
   "cell_type": "code",
   "execution_count": 70,
   "id": "bcd325c2",
   "metadata": {
    "slideshow": {
     "slide_type": "fragment"
    }
   },
   "outputs": [
    {
     "data": {
      "text/plain": [
       "[3, 4, 5, 6, 8]"
      ]
     },
     "execution_count": 70,
     "metadata": {},
     "output_type": "execute_result"
    }
   ],
   "source": [
    "# get me a list of all x values. use a list comprehension\n",
    "[dictionary['x'] for dictionary in xy_dict_list]\n"
   ]
  },
  {
   "cell_type": "code",
   "execution_count": 76,
   "id": "bd55f945",
   "metadata": {
    "slideshow": {
     "slide_type": "fragment"
    }
   },
   "outputs": [
    {
     "data": {
      "text/plain": [
       "[3, 4, 5]"
      ]
     },
     "execution_count": 76,
     "metadata": {},
     "output_type": "execute_result"
    }
   ],
   "source": [
    "# get me a list of all x values with y < = 50. use a list comprehension.\n",
    "[dictionary['x']  for dictionary in xy_dict_list if (dictionary['y'] <= 50)]"
   ]
  },
  {
   "cell_type": "code",
   "execution_count": 89,
   "id": "7ee64233",
   "metadata": {
    "slideshow": {
     "slide_type": "slide"
    }
   },
   "outputs": [
    {
     "name": "stdout",
     "output_type": "stream",
     "text": [
      "[{'x': 3, 'y': 18}, {'x': 4, 'y': 32}, {'x': 5, 'y': 50}, {'x': 6, 'y': 72}, {'x': 8, 'y': 128}]\n"
     ]
    },
    {
     "data": {
      "text/plain": [
       "[(3, 4, 5, 6, 8), (18, 32, 50, 72, 128)]"
      ]
     },
     "execution_count": 89,
     "metadata": {},
     "output_type": "execute_result"
    }
   ],
   "source": [
    "print(xy_dict_list)\n",
    "\n",
    "# get a nested list of the value lists corresponding to the x,y keys\n",
    "# a list of tuples is also ok.\n",
    "[ (3,4,5, 6, 8) , (18,32,50,72,128)]\n",
    "\n",
    "list(zip(*[elem.values() for elem in xy_dict_list]))\n"
   ]
  },
  {
   "cell_type": "markdown",
   "id": "185d8c88",
   "metadata": {
    "slideshow": {
     "slide_type": "fragment"
    }
   },
   "source": [
    "Will see this kind of stuff a bit when using the csv library and manipulating data from csvs."
   ]
  },
  {
   "cell_type": "markdown",
   "id": "f17742cd",
   "metadata": {
    "slideshow": {
     "slide_type": "slide"
    }
   },
   "source": [
    "#### Dictionary of lists representation:"
   ]
  },
  {
   "cell_type": "code",
   "execution_count": 107,
   "id": "3f572c3b",
   "metadata": {
    "slideshow": {
     "slide_type": "-"
    }
   },
   "outputs": [],
   "source": [
    "xy_list_dict = {'x': [3,4,5,6,7], 'y': [18,32,50,72,128] }"
   ]
  },
  {
   "cell_type": "code",
   "execution_count": 108,
   "id": "c4eb396d",
   "metadata": {},
   "outputs": [
    {
     "data": {
      "text/plain": [
       "dict_values([[3, 4, 5, 6, 7], [18, 32, 50, 72, 128]])"
      ]
     },
     "execution_count": 108,
     "metadata": {},
     "output_type": "execute_result"
    }
   ],
   "source": [
    "xy_list_dict.values()"
   ]
  },
  {
   "cell_type": "code",
   "execution_count": 110,
   "id": "a362ddff",
   "metadata": {},
   "outputs": [
    {
     "data": {
      "text/plain": [
       "[{'x': 3, 'y': 18},\n",
       " {'x': 4, 'y': 32},\n",
       " {'x': 5, 'y': 50},\n",
       " {'x': 6, 'y': 72},\n",
       " {'x': 7, 'y': 128}]"
      ]
     },
     "execution_count": 110,
     "metadata": {},
     "output_type": "execute_result"
    }
   ],
   "source": [
    "[{\"x\":x,\"y\":y} for x,y in list(zip(*xy_list_dict.values()))]"
   ]
  },
  {
   "cell_type": "code",
   "execution_count": 91,
   "id": "9e385e2d",
   "metadata": {
    "slideshow": {
     "slide_type": "fragment"
    }
   },
   "outputs": [
    {
     "data": {
      "text/plain": [
       "[{'x': 3, 'y': 18},\n",
       " {'x': 4, 'y': 32},\n",
       " {'x': 5, 'y': 50},\n",
       " {'x': 6, 'y': 72},\n",
       " {'x': 8, 'y': 128}]"
      ]
     },
     "execution_count": 91,
     "metadata": {},
     "output_type": "execute_result"
    }
   ],
   "source": [
    "xy_dict_list"
   ]
  },
  {
   "cell_type": "markdown",
   "id": "862ae2a2",
   "metadata": {
    "slideshow": {
     "slide_type": "fragment"
    }
   },
   "source": [
    "Convert dictionary of lists to list of dictionaries:"
   ]
  },
  {
   "cell_type": "code",
   "execution_count": 102,
   "id": "97065757",
   "metadata": {},
   "outputs": [
    {
     "data": {
      "text/plain": [
       "dict_keys(['x', 'y'])"
      ]
     },
     "execution_count": 102,
     "metadata": {},
     "output_type": "execute_result"
    }
   ],
   "source": [
    "xy_keys"
   ]
  },
  {
   "cell_type": "code",
   "execution_count": 101,
   "id": "4f3ff666",
   "metadata": {
    "slideshow": {
     "slide_type": "subslide"
    }
   },
   "outputs": [
    {
     "data": {
      "text/plain": [
       "[{'x': 3, 'y': 18},\n",
       " {'x': 4, 'y': 32},\n",
       " {'x': 5, 'y': 50},\n",
       " {'x': 6, 'y': 72},\n",
       " {'x': 7, 'y': 128}]"
      ]
     },
     "execution_count": 101,
     "metadata": {},
     "output_type": "execute_result"
    }
   ],
   "source": [
    "one_possibility = []\n",
    "xy_keys = xy_list_dict.keys()\n",
    "\n",
    "for i in range(len(xy_list_dict['x'])):\n",
    "    value_list = []\n",
    "    for key in xy_keys:\n",
    "        value_list.append(xy_list_dict[key][i])\n",
    "    \n",
    "    one_possibility.append(dict(zip(xy_keys, value_list)))\n",
    "    \n",
    "one_possibility"
   ]
  },
  {
   "cell_type": "code",
   "execution_count": null,
   "id": "679cb0eb",
   "metadata": {},
   "outputs": [],
   "source": [
    "another_possibility = []\n",
    "xy_keys = xy_list_dict.keys()\n"
   ]
  },
  {
   "cell_type": "markdown",
   "id": "67cbb803",
   "metadata": {
    "slideshow": {
     "slide_type": "slide"
    }
   },
   "source": [
    "Now let us go the other way. **We have a list of dicts and want to convert to a dict of lists**. We have found that nested_list is:"
   ]
  },
  {
   "cell_type": "code",
   "execution_count": 31,
   "id": "36bde98b",
   "metadata": {
    "slideshow": {
     "slide_type": "fragment"
    }
   },
   "outputs": [
    {
     "data": {
      "text/plain": [
       "[[3, 4, 5, 6, 8], [18, 32, 50, 72, 128]]"
      ]
     },
     "execution_count": 31,
     "metadata": {},
     "output_type": "execute_result"
    }
   ],
   "source": [
    "# get a nested list of the value lists corresponding to the x,y keys\n",
    "\n",
    "nested_list = []\n",
    "\n",
    "for keys in xy_dict_list[0]:\n",
    "    nested_list.append([item[keys] for item in xy_dict_list])\n",
    "    \n",
    "nested_list"
   ]
  },
  {
   "cell_type": "code",
   "execution_count": 32,
   "id": "50a0ac53",
   "metadata": {
    "slideshow": {
     "slide_type": "fragment"
    }
   },
   "outputs": [
    {
     "data": {
      "text/plain": [
       "[{'x': 3, 'y': 18},\n",
       " {'x': 4, 'y': 32},\n",
       " {'x': 5, 'y': 50},\n",
       " {'x': 6, 'y': 72},\n",
       " {'x': 8, 'y': 128}]"
      ]
     },
     "execution_count": 32,
     "metadata": {},
     "output_type": "execute_result"
    }
   ],
   "source": [
    "xy_dict_list"
   ]
  },
  {
   "cell_type": "markdown",
   "id": "20dae956",
   "metadata": {
    "slideshow": {
     "slide_type": "subslide"
    }
   },
   "source": [
    "and"
   ]
  },
  {
   "cell_type": "code",
   "execution_count": 23,
   "id": "aec2c91c",
   "metadata": {
    "cell_style": "split",
    "slideshow": {
     "slide_type": "fragment"
    }
   },
   "outputs": [
    {
     "data": {
      "text/plain": [
       "['x', 'y']"
      ]
     },
     "execution_count": 23,
     "metadata": {},
     "output_type": "execute_result"
    }
   ],
   "source": [
    "xy_keys = list(xy_dict_list[0].keys())\n",
    "xy_keys"
   ]
  },
  {
   "cell_type": "code",
   "execution_count": 24,
   "id": "70035454",
   "metadata": {
    "cell_style": "split",
    "slideshow": {
     "slide_type": "fragment"
    }
   },
   "outputs": [
    {
     "data": {
      "text/plain": [
       "{'x': [3, 4, 5, 6, 8], 'y': [18, 32, 50, 72, 128]}"
      ]
     },
     "execution_count": 24,
     "metadata": {},
     "output_type": "execute_result"
    }
   ],
   "source": [
    "final_result = {}\n",
    "nested_list\n",
    "# to get final result as dict of list\n",
    "dict(zip(xy_keys, nested_list))"
   ]
  },
  {
   "cell_type": "markdown",
   "id": "2816adac",
   "metadata": {
    "slideshow": {
     "slide_type": "slide"
    }
   },
   "source": [
    "Using nested comprehensions. "
   ]
  },
  {
   "cell_type": "code",
   "execution_count": 25,
   "id": "72d3ed42",
   "metadata": {
    "slideshow": {
     "slide_type": "fragment"
    }
   },
   "outputs": [
    {
     "data": {
      "text/plain": [
       "{'x': [3, 4, 5, 6, 8], 'y': [18, 32, 50, 72, 128]}"
      ]
     },
     "execution_count": 25,
     "metadata": {},
     "output_type": "execute_result"
    }
   ],
   "source": [
    "\n",
    "# inner list comprehension iterates over every element \n",
    "# in list of dictionaries and creates list of values for a given key\n",
    "\n",
    "# outer is a dict comprehension that returns {given key: list of values for that key}\n",
    "\n",
    "new_dict = {key: [elem[key] for elem in xy_dict_list] for key in xy_keys}\n",
    "new_dict"
   ]
  },
  {
   "cell_type": "markdown",
   "id": "e18ef335",
   "metadata": {
    "slideshow": {
     "slide_type": "subslide"
    }
   },
   "source": [
    "One takeaway is making such a simple data transformation is a major pain in the ass in base Python. But sometimes no choice."
   ]
  },
  {
   "cell_type": "markdown",
   "id": "38ec371f",
   "metadata": {
    "slideshow": {
     "slide_type": "slide"
    }
   },
   "source": [
    "#### Nested Dict/List structures:\n",
    "- Many formats are hierarchical/nested named structures.\n",
    "- JSON (a format you'll see soon) often gets translated to this in Python.\n",
    "\n",
    "An example:"
   ]
  },
  {
   "cell_type": "code",
   "execution_count": 56,
   "id": "da8bd0e2",
   "metadata": {
    "slideshow": {
     "slide_type": "fragment"
    }
   },
   "outputs": [],
   "source": [
    "nested_dict = {'metadata': {'timestamp': '12-1-2020 08:25:03',\n",
    "                            'enter_by_user': 'Oscar the Grouch', 'entry_dbase': 'NORAD3' },\n",
    "              'data': {'missile_type': \"Taepodong 2\", \"hit_target\": False, 'land_location': [34, 129]} }"
   ]
  },
  {
   "cell_type": "code",
   "execution_count": 63,
   "id": "6632fb98",
   "metadata": {
    "slideshow": {
     "slide_type": "subslide"
    }
   },
   "outputs": [
    {
     "data": {
      "text/plain": [
       "'Taepodong 2'"
      ]
     },
     "execution_count": 63,
     "metadata": {},
     "output_type": "execute_result"
    }
   ],
   "source": [
    "nested_dict['data']['missile_type']"
   ]
  },
  {
   "cell_type": "markdown",
   "id": "73a1b740",
   "metadata": {
    "slideshow": {
     "slide_type": "fragment"
    }
   },
   "source": [
    "\n",
    "<div align = \"center\">\n",
    "<center><img src=\"Images/taepodong.png\" align = \"center\" width=\"400\"/></center>\n",
    "</div>\n"
   ]
  },
  {
   "cell_type": "markdown",
   "id": "21610c1d",
   "metadata": {
    "slideshow": {
     "slide_type": "slide"
    }
   },
   "source": [
    "#### Next up\n",
    "\n",
    "- We'll start opening files.\n",
    "- The data forms and structures from this lecture will pop up a lot.\n",
    "- Transforming between various forms will be your bread and butter."
   ]
  }
 ],
 "metadata": {
  "celltoolbar": "Slideshow",
  "kernelspec": {
   "display_name": "Python 3 (ipykernel)",
   "language": "python",
   "name": "python3"
  },
  "language_info": {
   "codemirror_mode": {
    "name": "ipython",
    "version": 3
   },
   "file_extension": ".py",
   "mimetype": "text/x-python",
   "name": "python",
   "nbconvert_exporter": "python",
   "pygments_lexer": "ipython3",
   "version": "3.11.7"
  }
 },
 "nbformat": 4,
 "nbformat_minor": 5
}
